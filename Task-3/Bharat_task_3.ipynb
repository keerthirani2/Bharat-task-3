{
 "cells": [
  {
   "cell_type": "code",
   "execution_count": 12,
   "id": "0081dfec",
   "metadata": {},
   "outputs": [],
   "source": [
    "import tensorflow as tf\n",
    "import numpy as np\n",
    "import os\n",
    "import matplotlib.pyplot as plt\n",
    "import cv2\n",
    "from tensorflow.keras import layers, models"
   ]
  },
  {
   "cell_type": "code",
   "execution_count": 2,
   "id": "00de71dd",
   "metadata": {},
   "outputs": [],
   "source": [
    "(train_images, train_labels), (test_images, test_labels) = tf.keras.datasets.mnist.load_data(path=\"mnist.npz\")"
   ]
  },
  {
   "cell_type": "code",
   "execution_count": 3,
   "id": "b2b0cdd5",
   "metadata": {},
   "outputs": [],
   "source": [
    "train_images = train_images / 255.0\n",
    "test_images = test_images / 255.0\n",
    "train_images = train_images.reshape(train_images.shape[0], 784)\n",
    "test_images = test_images.reshape(test_images.shape[0], 784)\n",
    "train_labels = tf.keras.utils.to_categorical(train_labels, num_classes=10)\n",
    "test_labels = tf.keras.utils.to_categorical(test_labels, num_classes=10)"
   ]
  },
  {
   "cell_type": "code",
   "execution_count": 6,
   "id": "5e5e6ef6",
   "metadata": {},
   "outputs": [],
   "source": [
    "# Create directories to store the datasets\n",
    "train_dir = \"training_data\"\n",
    "test_dir = \"test_data\"\n",
    "os.makedirs(train_dir, exist_ok=True)\n",
    "os.makedirs(test_dir, exist_ok=True)\n",
    "np.save(os.path.join(train_dir, \"train_images.npy\"), train_images)\n",
    "np.save(os.path.join(train_dir, \"train_labels.npy\"), train_labels)\n",
    "np.save(os.path.join(test_dir, \"test_images.npy\"), test_images)\n",
    "np.save(os.path.join(test_dir, \"test_labels.npy\"), test_labels)"
   ]
  },
  {
   "cell_type": "code",
   "execution_count": 7,
   "id": "d07829d8",
   "metadata": {},
   "outputs": [
    {
     "name": "stdout",
     "output_type": "stream",
     "text": [
      "Training images shape: (60000, 784)\n",
      "Training labels shape: (60000, 10)\n"
     ]
    }
   ],
   "source": [
    "# Load the training dataset\n",
    "train_images = np.load(\"training_data/train_images.npy\")\n",
    "train_labels = np.load(\"training_data/train_labels.npy\")\n",
    "print(\"Training images shape:\", train_images.shape)\n",
    "print(\"Training labels shape:\", train_labels.shape)"
   ]
  },
  {
   "cell_type": "code",
   "execution_count": 9,
   "id": "b8a0b3a5",
   "metadata": {},
   "outputs": [],
   "source": [
    "model = models.Sequential([\n",
    "    layers.Reshape((28, 28, 1), input_shape=(784,)),\n",
    "    layers.Conv2D(32, (3, 3), activation='relu'),\n",
    "    layers.MaxPooling2D((2, 2)),\n",
    "    layers.Conv2D(64, (3, 3), activation='relu'),\n",
    "    layers.MaxPooling2D((2, 2)),\n",
    "    layers.Flatten(),\n",
    "    layers.Dense(64, activation='relu'),\n",
    "    layers.Dense(10, activation='softmax')\n",
    "])"
   ]
  },
  {
   "cell_type": "code",
   "execution_count": 10,
   "id": "e8eda56d",
   "metadata": {},
   "outputs": [
    {
     "name": "stdout",
     "output_type": "stream",
     "text": [
      "Epoch 1/5\n",
      "1875/1875 [==============================] - 46s 23ms/step - loss: 0.1411 - accuracy: 0.9570\n",
      "Epoch 2/5\n",
      "1875/1875 [==============================] - 46s 25ms/step - loss: 0.0452 - accuracy: 0.9859\n",
      "Epoch 3/5\n",
      "1875/1875 [==============================] - 56s 30ms/step - loss: 0.0324 - accuracy: 0.9897\n",
      "Epoch 4/5\n",
      "1875/1875 [==============================] - 66s 35ms/step - loss: 0.0236 - accuracy: 0.9923\n",
      "Epoch 5/5\n",
      "1875/1875 [==============================] - 66s 35ms/step - loss: 0.0182 - accuracy: 0.9940\n",
      "313/313 [==============================] - 5s 13ms/step - loss: 0.0431 - accuracy: 0.9876\n",
      "Test Accuracy: 0.9876000285148621\n"
     ]
    }
   ],
   "source": [
    "# Compile the model\n",
    "model.compile(optimizer='adam', loss='categorical_crossentropy', metrics=['accuracy'])\n",
    "\n",
    "# Train the model\n",
    "model.fit(train_images, train_labels, epochs=5, batch_size=32)\n",
    "\n",
    "# Evaluate the model on the test dataset\n",
    "test_loss, test_accuracy = model.evaluate(test_images, test_labels)\n",
    "\n",
    "print(\"Test Accuracy:\", test_accuracy)\n"
   ]
  },
  {
   "cell_type": "code",
   "execution_count": 22,
   "id": "fb99a167",
   "metadata": {},
   "outputs": [
    {
     "name": "stdout",
     "output_type": "stream",
     "text": [
      "1/1 [==============================] - 0s 39ms/step\n"
     ]
    },
    {
     "data": {
      "image/png": "[encoded data removed]",
      "text/plain": [
       "<Figure size 640x480 with 1 Axes>"
      ]
     },
     "metadata": {},
     "output_type": "display_data"
    }
   ],
   "source": [
    "new_image = cv2.imread(\"C:\\\\Users\\\\Hp\\\\OneDrive\\\\Desktop\\\\test 4.jpeg\", cv2.IMREAD_GRAYSCALE)\n",
    "new_image = cv2.resize(new_image, (28, 28))\n",
    "new_image = 255 - new_image\n",
    "new_image = new_image / 255.0\n",
    "new_image = new_image.reshape(1, 784)\n",
    "predicted_probs = model.predict(new_image)\n",
    "predicted_digit = np.argmax(predicted_probs[0])\n",
    "plt.imshow(new_image.reshape(28, 28), cmap='gray')\n",
    "plt.title(f'Predicted digit: {predicted_digit}')\n",
    "plt.axis('off')\n",
    "plt.sh\n"
   ]
  }
 ],
 "metadata": {
  "kernelspec": {
   "display_name": "Python 3 (ipykernel)",
   "language": "python",
   "name": "python3"
  },
  "language_info": {
   "codemirror_mode": {
    "name": "ipython",
    "version": 3
   },
   "file_extension": ".py",
   "mimetype": "text/x-python",
   "name": "python",
   "nbconvert_exporter": "python",
   "pygments_lexer": "ipython3",
   "version": "3.10.9"
  }
 },
 "nbformat": 4,
 "nbformat_minor": 5
}
